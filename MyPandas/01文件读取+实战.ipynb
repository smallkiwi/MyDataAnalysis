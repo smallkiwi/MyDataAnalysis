{
 "cells": [
  {
   "cell_type": "code",
   "execution_count": 1,
   "metadata": {
    "collapsed": true
   },
   "outputs": [],
   "source": [
    "import numpy as np\n",
    "import pandas as pd\n",
    "data1 = pd.read_table(r\"D:\\MyDataAnalysis\\MyPandas\\nasa.txt\")"
   ]
  },
  {
   "cell_type": "code",
   "execution_count": 2,
   "metadata": {},
   "outputs": [
    {
     "data": {
      "text/plain": [
       "(8583, 21)"
      ]
     },
     "execution_count": 2,
     "metadata": {},
     "output_type": "execute_result"
    }
   ],
   "source": [
    "data1.shape"
   ]
  },
  {
   "cell_type": "code",
   "execution_count": 35,
   "metadata": {},
   "outputs": [
    {
     "data": {
      "text/html": [
       "<div>\n",
       "<style scoped>\n",
       "    .dataframe tbody tr th:only-of-type {\n",
       "        vertical-align: middle;\n",
       "    }\n",
       "\n",
       "    .dataframe tbody tr th {\n",
       "        vertical-align: top;\n",
       "    }\n",
       "\n",
       "    .dataframe thead th {\n",
       "        text-align: right;\n",
       "    }\n",
       "</style>\n",
       "<table border=\"1\" class=\"dataframe\">\n",
       "  <thead>\n",
       "    <tr style=\"text-align: right;\">\n",
       "      <th></th>\n",
       "      <th>会员ID</th>\n",
       "      <th>姓名</th>\n",
       "      <th>性别</th>\n",
       "      <th>年龄</th>\n",
       "      <th>身高</th>\n",
       "      <th>学历</th>\n",
       "      <th>婚否</th>\n",
       "      <th>所在地</th>\n",
       "      <th>星座</th>\n",
       "      <th>职业</th>\n",
       "      <th>...</th>\n",
       "      <th>愿意/可能前往</th>\n",
       "      <th>服务收费/支付能力</th>\n",
       "      <th>伴游经验</th>\n",
       "      <th>服务内容/需求服务</th>\n",
       "      <th>伴游心情/其他说明</th>\n",
       "      <th>最方便联系时间</th>\n",
       "      <th>联系电话</th>\n",
       "      <th>Email</th>\n",
       "      <th>博客</th>\n",
       "      <th>QQ</th>\n",
       "    </tr>\n",
       "  </thead>\n",
       "  <tbody>\n",
       "    <tr>\n",
       "      <th>0</th>\n",
       "      <td>127740</td>\n",
       "      <td>1小姐</td>\n",
       "      <td>女</td>\n",
       "      <td>22</td>\n",
       "      <td>166</td>\n",
       "      <td>本科</td>\n",
       "      <td>未婚</td>\n",
       "      <td>合肥</td>\n",
       "      <td>山羊座</td>\n",
       "      <td>编辑</td>\n",
       "      <td>...</td>\n",
       "      <td>安徽,浙江,江苏,上海</td>\n",
       "      <td>面议元/天</td>\n",
       "      <td>初次接触</td>\n",
       "      <td>商务伴游,私人伴游,交友伴游,景点伴游</td>\n",
       "      <td>本人今年22岁，半年前大学毕业，平时在上海工作，放假时回安徽。有意可以联系我哦。另外我是大叔...</td>\n",
       "      <td>0:00—23:00</td>\n",
       "      <td>15755106787</td>\n",
       "      <td>1718560307@qq.com</td>\n",
       "      <td>http://www.banyou.com/</td>\n",
       "      <td>1718560307</td>\n",
       "    </tr>\n",
       "    <tr>\n",
       "      <th>1</th>\n",
       "      <td>88548</td>\n",
       "      <td>n小姐</td>\n",
       "      <td>女</td>\n",
       "      <td>22</td>\n",
       "      <td>162</td>\n",
       "      <td>本科</td>\n",
       "      <td>未婚</td>\n",
       "      <td>合肥</td>\n",
       "      <td>山羊座</td>\n",
       "      <td>在校学生</td>\n",
       "      <td>...</td>\n",
       "      <td>安徽,合肥</td>\n",
       "      <td>面议元/天</td>\n",
       "      <td>初次接触</td>\n",
       "      <td>私人伴游</td>\n",
       "      <td>希望游客素质比较好，相互尊重，出言不逊者请勿扰。比较好奇，没试过。通过连接看到的，所以就注册...</td>\n",
       "      <td>8:00—23:00</td>\n",
       "      <td>未认证暂不开放或已设置成永久保密</td>\n",
       "      <td>2574230157@qq.com</td>\n",
       "      <td>http://www.banyou.com/</td>\n",
       "      <td>2574230157</td>\n",
       "    </tr>\n",
       "  </tbody>\n",
       "</table>\n",
       "<p>2 rows × 21 columns</p>\n",
       "</div>"
      ],
      "text/plain": [
       "<div>\n",
       "<style scoped>\n",
       "    .dataframe tbody tr th:only-of-type {\n",
       "        vertical-align: middle;\n",
       "    }\n",
       "\n",
       "    .dataframe tbody tr th {\n",
       "        vertical-align: top;\n",
       "    }\n",
       "\n",
       "    .dataframe thead th {\n",
       "        text-align: right;\n",
       "    }\n",
       "</style>\n",
       "<table border=\"1\" class=\"dataframe\">\n",
       "  <thead>\n",
       "    <tr style=\"text-align: right;\">\n",
       "      <th></th>\n",
       "      <th>会员ID</th>\n",
       "      <th>姓名</th>\n",
       "      <th>性别</th>\n",
       "      <th>年龄</th>\n",
       "      <th>身高</th>\n",
       "      <th>学历</th>\n",
       "      <th>婚否</th>\n",
       "      <th>所在地</th>\n",
       "      <th>星座</th>\n",
       "      <th>职业</th>\n",
       "      <th>...</th>\n",
       "      <th>愿意/可能前往</th>\n",
       "      <th>服务收费/支付能力</th>\n",
       "      <th>伴游经验</th>\n",
       "      <th>服务内容/需求服务</th>\n",
       "      <th>伴游心情/其他说明</th>\n",
       "      <th>最方便联系时间</th>\n",
       "      <th>联系电话</th>\n",
       "      <th>Email</th>\n",
       "      <th>博客</th>\n",
       "      <th>QQ</th>\n",
       "    </tr>\n",
       "  </thead>\n",
       "  <tbody>\n",
       "    <tr>\n",
       "      <th>0</th>\n",
       "      <td>127740</td>\n",
       "      <td>1小姐</td>\n",
       "      <td>女</td>\n",
       "      <td>22</td>\n",
       "      <td>166</td>\n",
       "      <td>本科</td>\n",
       "      <td>未婚</td>\n",
       "      <td>合肥</td>\n",
       "      <td>山羊座</td>\n",
       "      <td>编辑</td>\n",
       "      <td>...</td>\n",
       "      <td>安徽,浙江,江苏,上海</td>\n",
       "      <td>面议元/天</td>\n",
       "      <td>初次接触</td>\n",
       "      <td>商务伴游,私人伴游,交友伴游,景点伴游</td>\n",
       "      <td>本人今年22岁，半年前大学毕业，平时在上海工作，放假时回安徽。有意可以联系我哦。另外我是大叔...</td>\n",
       "      <td>0:00—23:00</td>\n",
       "      <td>15755106787</td>\n",
       "      <td>1718560307@qq.com</td>\n",
       "      <td>http://www.banyou.com/</td>\n",
       "      <td>1718560307</td>\n",
       "    </tr>\n",
       "    <tr>\n",
       "      <th>1</th>\n",
       "      <td>88548</td>\n",
       "      <td>n小姐</td>\n",
       "      <td>女</td>\n",
       "      <td>22</td>\n",
       "      <td>162</td>\n",
       "      <td>本科</td>\n",
       "      <td>未婚</td>\n",
       "      <td>合肥</td>\n",
       "      <td>山羊座</td>\n",
       "      <td>在校学生</td>\n",
       "      <td>...</td>\n",
       "      <td>安徽,合肥</td>\n",
       "      <td>面议元/天</td>\n",
       "      <td>初次接触</td>\n",
       "      <td>私人伴游</td>\n",
       "      <td>希望游客素质比较好，相互尊重，出言不逊者请勿扰。比较好奇，没试过。通过连接看到的，所以就注册...</td>\n",
       "      <td>8:00—23:00</td>\n",
       "      <td>未认证暂不开放或已设置成永久保密</td>\n",
       "      <td>2574230157@qq.com</td>\n",
       "      <td>http://www.banyou.com/</td>\n",
       "      <td>2574230157</td>\n",
       "    </tr>\n",
       "  </tbody>\n",
       "</table>\n",
       "<p>2 rows × 21 columns</p>\n",
       "</div>"
      ]
     },
     "execution_count": 35,
     "metadata": {},
     "output_type": "execute_result"
    }
   ],
   "source": [
    "data1.head(2)"
   ]
  },
  {
   "cell_type": "code",
   "execution_count": 3,
   "metadata": {},
   "outputs": [
    {
     "data": {
      "text/plain": [
       "166    2219\n165     908\n160     848\n163     622\n168     621\n170     558\n162     534\n164     407\n167     321\n158     237\n161     231\n169     171\n172     161\n155     100\n171      86\n173      77\n156      69\n175      68\n157      66\n159      55\n174      37\n身高       30\n150      24\n176      24\n180      17\n178      14\n152      11\n153      10\n177      10\n154       8\n181       8\n185       5\n151       5\n200       4\n179       4\n190       2\n186       2\n199       2\n183       2\n189       1\n193       1\n182       1\n187       1\n195       1\nName: 身高, dtype: int64"
      ]
     },
     "execution_count": 3,
     "metadata": {},
     "output_type": "execute_result"
    }
   ],
   "source": [
    "data1[\"身高\"].value_counts()  # 计次"
   ]
  },
  {
   "cell_type": "code",
   "execution_count": 37,
   "metadata": {},
   "outputs": [],
   "source": [
    "def strFloat(tallstr):\n",
    "    try:\n",
    "        return float(tallstr)\n",
    "    except:\n",
    "        return np.nan"
   ]
  },
  {
   "cell_type": "code",
   "execution_count": 38,
   "metadata": {},
   "outputs": [
    {
     "data": {
      "text/plain": [
       "30"
      ]
     },
     "execution_count": 38,
     "metadata": {},
     "output_type": "execute_result"
    }
   ],
   "source": [
    "data1[\"身高\"] = data1[\"身高\"].map(strFloat)  # b遍历每个数据,对每个数做处理\n",
    "data1[\"身高\"].isnull().sum()  # 统计nan的个数"
   ]
  },
  {
   "cell_type": "code",
   "execution_count": 39,
   "metadata": {},
   "outputs": [],
   "source": [
    "nanIndex = data1[data1[\"身高\"].isnull()].index  # 返回哪一行为空"
   ]
  },
  {
   "cell_type": "code",
   "execution_count": 40,
   "metadata": {},
   "outputs": [
    {
     "data": {
      "text/plain": [
       "(8553, 21)"
      ]
     },
     "execution_count": 40,
     "metadata": {},
     "output_type": "execute_result"
    }
   ],
   "source": [
    "newdata = data1.drop(nanIndex)  # 过滤\n",
    "newdata.shape"
   ]
  },
  {
   "cell_type": "code",
   "execution_count": 41,
   "metadata": {},
   "outputs": [],
   "source": [
    "result = newdata.groupby(\"年龄\")[\"身高\"]  # 按年龄分组\n",
    "# result.head()"
   ]
  },
  {
   "cell_type": "code",
   "execution_count": 42,
   "metadata": {},
   "outputs": [],
   "source": [
    "def age_mean(group):\n",
    "    if group.size < 100:  # 分组的大小\n",
    "        return np.nan\n",
    "    else:\n",
    "        return group.mean()"
   ]
  },
  {
   "cell_type": "code",
   "execution_count": 43,
   "metadata": {},
   "outputs": [
    {
     "data": {
      "text/plain": [
       "年龄\n18    165.087379\n19    165.672083\n20    165.266309\n21    165.242826\n22    164.815152\n23    164.814229\n24    164.810878\n25    164.374016\n26    163.788060\n27    164.546939\nName: 身高, dtype: float64"
      ]
     },
     "execution_count": 43,
     "metadata": {},
     "output_type": "execute_result"
    }
   ],
   "source": [
    "lastresult = result.apply(age_mean)  # 分组后的数据只能用apply,不能用map\n",
    "lastresult.isnull().sum()\n",
    "lastresult.head(10)"
   ]
  },
  {
   "cell_type": "code",
   "execution_count": 4,
   "metadata": {},
   "outputs": [],
   "source": [
    "data = pd.read_csv(r\"D:\\MyDataAnalysis\\MyPandas\\state-abbrevs.csv\")"
   ]
  },
  {
   "cell_type": "code",
   "execution_count": 13,
   "metadata": {},
   "outputs": [
    {
     "data": {
      "text/html": [
       "<div>\n",
       "<style scoped>\n",
       "    .dataframe tbody tr th:only-of-type {\n",
       "        vertical-align: middle;\n",
       "    }\n",
       "\n",
       "    .dataframe tbody tr th {\n",
       "        vertical-align: top;\n",
       "    }\n",
       "\n",
       "    .dataframe thead th {\n",
       "        text-align: right;\n",
       "    }\n",
       "</style>\n",
       "<table border=\"1\" class=\"dataframe\">\n",
       "  <thead>\n",
       "    <tr style=\"text-align: right;\">\n",
       "      <th></th>\n",
       "      <th>state</th>\n",
       "      <th>abbreviation</th>\n",
       "    </tr>\n",
       "  </thead>\n",
       "  <tbody>\n",
       "    <tr>\n",
       "      <th>0</th>\n",
       "      <td>Alabama</td>\n",
       "      <td>AL</td>\n",
       "    </tr>\n",
       "    <tr>\n",
       "      <th>1</th>\n",
       "      <td>Alaska</td>\n",
       "      <td>AK</td>\n",
       "    </tr>\n",
       "    <tr>\n",
       "      <th>2</th>\n",
       "      <td>Arizona</td>\n",
       "      <td>AZ</td>\n",
       "    </tr>\n",
       "    <tr>\n",
       "      <th>3</th>\n",
       "      <td>Arkansas</td>\n",
       "      <td>AR</td>\n",
       "    </tr>\n",
       "    <tr>\n",
       "      <th>4</th>\n",
       "      <td>California</td>\n",
       "      <td>CA</td>\n",
       "    </tr>\n",
       "    <tr>\n",
       "      <th>5</th>\n",
       "      <td>Colorado</td>\n",
       "      <td>CO</td>\n",
       "    </tr>\n",
       "    <tr>\n",
       "      <th>6</th>\n",
       "      <td>Connecticut</td>\n",
       "      <td>CT</td>\n",
       "    </tr>\n",
       "    <tr>\n",
       "      <th>7</th>\n",
       "      <td>Delaware</td>\n",
       "      <td>DE</td>\n",
       "    </tr>\n",
       "    <tr>\n",
       "      <th>8</th>\n",
       "      <td>District of Columbia</td>\n",
       "      <td>DC</td>\n",
       "    </tr>\n",
       "    <tr>\n",
       "      <th>9</th>\n",
       "      <td>Florida</td>\n",
       "      <td>FL</td>\n",
       "    </tr>\n",
       "  </tbody>\n",
       "</table>\n",
       "</div>"
      ],
      "text/plain": [
       "<div>\n",
       "<style scoped>\n",
       "    .dataframe tbody tr th:only-of-type {\n",
       "        vertical-align: middle;\n",
       "    }\n",
       "\n",
       "    .dataframe tbody tr th {\n",
       "        vertical-align: top;\n",
       "    }\n",
       "\n",
       "    .dataframe thead th {\n",
       "        text-align: right;\n",
       "    }\n",
       "</style>\n",
       "<table border=\"1\" class=\"dataframe\">\n",
       "  <thead>\n",
       "    <tr style=\"text-align: right;\">\n",
       "      <th></th>\n",
       "      <th>state</th>\n",
       "      <th>abbreviation</th>\n",
       "    </tr>\n",
       "  </thead>\n",
       "  <tbody>\n",
       "    <tr>\n",
       "      <th>0</th>\n",
       "      <td>Alabama</td>\n",
       "      <td>AL</td>\n",
       "    </tr>\n",
       "    <tr>\n",
       "      <th>1</th>\n",
       "      <td>Alaska</td>\n",
       "      <td>AK</td>\n",
       "    </tr>\n",
       "    <tr>\n",
       "      <th>2</th>\n",
       "      <td>Arizona</td>\n",
       "      <td>AZ</td>\n",
       "    </tr>\n",
       "    <tr>\n",
       "      <th>3</th>\n",
       "      <td>Arkansas</td>\n",
       "      <td>AR</td>\n",
       "    </tr>\n",
       "    <tr>\n",
       "      <th>4</th>\n",
       "      <td>California</td>\n",
       "      <td>CA</td>\n",
       "    </tr>\n",
       "    <tr>\n",
       "      <th>5</th>\n",
       "      <td>Colorado</td>\n",
       "      <td>CO</td>\n",
       "    </tr>\n",
       "    <tr>\n",
       "      <th>6</th>\n",
       "      <td>Connecticut</td>\n",
       "      <td>CT</td>\n",
       "    </tr>\n",
       "    <tr>\n",
       "      <th>7</th>\n",
       "      <td>Delaware</td>\n",
       "      <td>DE</td>\n",
       "    </tr>\n",
       "    <tr>\n",
       "      <th>8</th>\n",
       "      <td>District of Columbia</td>\n",
       "      <td>DC</td>\n",
       "    </tr>\n",
       "    <tr>\n",
       "      <th>9</th>\n",
       "      <td>Florida</td>\n",
       "      <td>FL</td>\n",
       "    </tr>\n",
       "  </tbody>\n",
       "</table>\n",
       "</div>"
      ]
     },
     "execution_count": 13,
     "metadata": {},
     "output_type": "execute_result"
    }
   ],
   "source": [
    "data.head(10)"
   ]
  },
  {
   "cell_type": "code",
   "execution_count": 17,
   "metadata": {},
   "outputs": [],
   "source": [
    "# 计次\n",
    "# data[\"abbreviation\"].value_counts()"
   ]
  },
  {
   "cell_type": "code",
   "execution_count": 20,
   "metadata": {},
   "outputs": [],
   "source": [
    "nasaAge = data1[\"年龄\"].value_counts()"
   ]
  },
  {
   "cell_type": "code",
   "execution_count": 22,
   "metadata": {},
   "outputs": [
    {
     "data": {
      "text/plain": [
       "21    1359\n22    1320\n20    1119\n23    1012\n24     809\nName: 年龄, dtype: int64"
      ]
     },
     "execution_count": 22,
     "metadata": {},
     "output_type": "execute_result"
    }
   ],
   "source": [
    "nasaAge[0:5]"
   ]
  },
  {
   "cell_type": "code",
   "execution_count": 44,
   "metadata": {},
   "outputs": [],
   "source": [
    "# 自动加载matplotlib\n",
    "%matplotlib inline  "
   ]
  },
  {
   "cell_type": "code",
   "execution_count": 45,
   "metadata": {},
   "outputs": [
    {
     "data": {
      "text/plain": [
       "<matplotlib.axes._subplots.AxesSubplot at 0x1838e764f60>"
      ]
     },
     "execution_count": 45,
     "metadata": {},
     "output_type": "execute_result"
    },
    {
     "data": {
      "image/png": "[encoded data removed]",
      "text/plain": [
       "<matplotlib.figure.Figure at 0x1838e7722e8>"
      ]
     },
     "metadata": {},
     "output_type": "display_data"
    }
   ],
   "source": [
    "lastresult[0:20].plot()"
   ]
  },
  {
   "cell_type": "code",
   "execution_count": null,
   "metadata": {},
   "outputs": [],
   "source": []
  }
 ],
 "metadata": {
  "kernelspec": {
   "display_name": "Python 2",
   "language": "python",
   "name": "python2"
  },
  "language_info": {
   "codemirror_mode": {
    "name": "ipython",
    "version": 2
   },
   "file_extension": ".py",
   "mimetype": "text/x-python",
   "name": "python",
   "nbconvert_exporter": "python",
   "pygments_lexer": "ipython2",
   "version": "2.7.6"
  }
 },
 "nbformat": 4,
 "nbformat_minor": 0
}
