{
 "cells": [
  {
   "cell_type": "code",
   "execution_count": 7,
   "metadata": {
    "collapsed": true
   },
   "outputs": [
    {
     "name": "stdout",
     "output_type": "stream",
     "text": [
      "[6, 7]\n"
     ]
    }
   ],
   "source": [
    "# filter 函数的功能相当于过滤器。\n",
    "# 调用一个布尔函数bool_func来迭代遍历每个seq中的元素；返回一个使bool_seq返回值为true的元素的序列\n",
    "a = [1,2,3,4,5,6,7]\n",
    "b = filter(lambda x: x > 5, a)\n",
    "print(list(b))"
   ]
  },
  {
   "cell_type": "code",
   "execution_count": 8,
   "metadata": {},
   "outputs": [
    {
     "data": {
      "text/plain": [
       "[2, 4, 6]"
      ]
     },
     "execution_count": 8,
     "metadata": {},
     "output_type": "execute_result"
    }
   ],
   "source": [
    "# map函数是对一个序列的每个项依次执行函数，下面是对一个序列每个项都乘以2\n",
    "a = map(lambda x:x*2,[1,2,3])\n",
    "list(a)"
   ]
  },
  {
   "cell_type": "code",
   "execution_count": 3,
   "metadata": {},
   "outputs": [
    {
     "data": {
      "text/plain": [
       "6"
      ]
     },
     "execution_count": 3,
     "metadata": {},
     "output_type": "execute_result"
    }
   ],
   "source": [
    "# reduce函数是对一个序列的每个项迭代调用函数，下面是求3的阶乘\n",
    "from functools import reduce \n",
    "c = reduce(lambda x,y:x*y,range(1,4))\n",
    "c"
   ]
  },
  {
   "cell_type": "code",
   "execution_count": 11,
   "metadata": {},
   "outputs": [
    {
     "name": "stdout",
     "output_type": "stream",
     "text": [
      "a =  [1, 2, 3, 4, ['a', 'b', 'c'], 5]\nb =  [1, 2, 3, 4, ['a', 'b', 'c'], 5]\nc =  [1, 2, 3, 4, ['a', 'b', 'c']]\nd =  [1, 2, 3, 4, ['a', 'b']]\n"
     ]
    }
   ],
   "source": [
    "import copy\n",
    "a = [1, 2, 3, 4, ['a', 'b']]  #原始对象\n",
    "\n",
    "b = a  #赋值，传对象的引用\n",
    "c = copy.copy(a)  #对象拷贝，浅拷贝\n",
    "d = copy.deepcopy(a)  #对象拷贝，深拷贝\n",
    "\n",
    "a.append(5)  #修改对象a\n",
    "a[4].append('c')  #修改对象a中的['a', 'b']数组对象\n",
    "print('a = ', a)\n",
    "print('b = ', b)\n",
    "print('c = ', c)\n",
    "print('d = ', d)"
   ]
  },
  {
   "cell_type": "code",
   "execution_count": 5,
   "metadata": {},
   "outputs": [
    {
     "name": "stdout",
     "output_type": "stream",
     "text": [
      "[0, 1, 2, 3, 5, 9]\n"
     ]
    }
   ],
   "source": [
    "# 递归方法实现选择排序\n",
    "def sort(lst):\n",
    "    sortHelper(lst, 0, len(lst) - 1)  # 对整个列表排序\n",
    "def sortHelper(lst, low, high):\n",
    "    if low < high:\n",
    "        indexMin = low\n",
    "        min = lst[low]\n",
    "        for i in range(low + 1, high + 1):\n",
    "            if lst[i] < min:\n",
    "                min = lst[i]\n",
    "                indexMin = i\n",
    "        lst[indexMin] = lst[low]\n",
    "        lst[low] = min\n",
    "        \n",
    "        sortHelper(lst,low+1,high)\n",
    "\n",
    "def main():\n",
    "    lst = [3,2,1,5,9,0]\n",
    "    sort(lst)\n",
    "    print(lst)\n",
    "\n",
    "main()\n",
    "        \n"
   ]
  },
  {
   "cell_type": "code",
   "execution_count": 23,
   "metadata": {},
   "outputs": [
    {
     "data": {
      "text/plain": [
       "8"
      ]
     },
     "execution_count": 23,
     "metadata": {},
     "output_type": "execute_result"
    }
   ],
   "source": [
    "# 一只青蛙一次可以跳上1级台阶，也可以跳上2级。求该青蛙跳上一个n级的台阶总共有多少种跳法\n",
    "# 方法一,递归\n",
    "fib = lambda n: n if n <= 2 else fib(n - 1) + fib(n - 2)  \n",
    "fib(5)"
   ]
  },
  {
   "cell_type": "code",
   "execution_count": 27,
   "metadata": {},
   "outputs": [
    {
     "data": {
      "text/plain": [
       "8"
      ]
     },
     "execution_count": 27,
     "metadata": {},
     "output_type": "execute_result"
    }
   ],
   "source": [
    "# 方法二\n",
    "def fib(n):\n",
    "    a, b = 0, 1\n",
    "    for i in range(n):\n",
    "        a, b = b, a + b\n",
    "    return b\n",
    "fib(5)"
   ]
  },
  {
   "cell_type": "code",
   "execution_count": null,
   "metadata": {},
   "outputs": [],
   "source": []
  }
 ],
 "metadata": {
  "kernelspec": {
   "display_name": "Python 2",
   "language": "python",
   "name": "python2"
  },
  "language_info": {
   "codemirror_mode": {
    "name": "ipython",
    "version": 2
   },
   "file_extension": ".py",
   "mimetype": "text/x-python",
   "name": "python",
   "nbconvert_exporter": "python",
   "pygments_lexer": "ipython2",
   "version": "2.7.6"
  }
 },
 "nbformat": 4,
 "nbformat_minor": 0
}
