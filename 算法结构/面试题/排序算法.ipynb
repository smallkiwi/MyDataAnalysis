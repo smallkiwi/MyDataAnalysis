{
 "cells": [
  {
   "cell_type": "code",
   "execution_count": 1,
   "metadata": {
    "collapsed": true
   },
   "outputs": [
    {
     "data": {
      "text/plain": [
       "[12, 36, 45, 66, 88, 89]"
      ]
     },
     "execution_count": 1,
     "metadata": {},
     "output_type": "execute_result"
    }
   ],
   "source": [
    "# 冒泡\n",
    "def bubbleSort(mylist):\n",
    "    listLength = len(mylist)\n",
    "    while listLength > 0:\n",
    "        for i in range(listLength - 1):\n",
    "            if mylist[i] > mylist[i + 1]:\n",
    "                tmp = mylist[i]\n",
    "                mylist[i] = mylist[i + 1]\n",
    "                mylist[i + 1] = tmp\n",
    "        listLength -= 1\n",
    "    return mylist\n",
    "bubbleSort([89,45,12,66,88,36])\n"
   ]
  },
  {
   "cell_type": "code",
   "execution_count": 6,
   "metadata": {},
   "outputs": [
    {
     "data": {
      "text/plain": [
       "[6, 8, 11, 15, 34, 36, 88]"
      ]
     },
     "execution_count": 6,
     "metadata": {},
     "output_type": "execute_result"
    }
   ],
   "source": [
    "# 选择\n",
    "def selectSort(mylist):\n",
    "    for i in range(len(mylist)):\n",
    "        min_index = i\n",
    "        for j in range(i + 1, len(mylist)):\n",
    "            if mylist[min_index] > mylist[j]:\n",
    "                min_index = j\n",
    "        tmp = mylist[i]\n",
    "        mylist[i] = mylist[min_index]\n",
    "        mylist[min_index] = tmp\n",
    "        # print(mylist)\n",
    "    return mylist\n",
    "selectSort([11,34,6,8,15,88,36])"
   ]
  },
  {
   "cell_type": "code",
   "execution_count": 8,
   "metadata": {},
   "outputs": [
    {
     "data": {
      "text/plain": [
       "[1, 5, 6, 18, 26, 34]"
      ]
     },
     "execution_count": 8,
     "metadata": {},
     "output_type": "execute_result"
    }
   ],
   "source": [
    "# 插入\n",
    "def insertSort(dataList):\n",
    "    for i in range(1, len(dataList)):\n",
    "        currentElement = dataList[i]\n",
    "        k = i - 1\n",
    "        while k >= 0 and dataList[k] > currentElement:\n",
    "            dataList[k+1] = dataList[k]\n",
    "            k -= 1\n",
    "        dataList[k+1] = currentElement\n",
    "    return dataList\n",
    "insertSort([34,1,26,6,5,18])"
   ]
  },
  {
   "cell_type": "code",
   "execution_count": null,
   "metadata": {},
   "outputs": [],
   "source": []
  }
 ],
 "metadata": {
  "kernelspec": {
   "display_name": "Python 2",
   "language": "python",
   "name": "python2"
  },
  "language_info": {
   "codemirror_mode": {
    "name": "ipython",
    "version": 2
   },
   "file_extension": ".py",
   "mimetype": "text/x-python",
   "name": "python",
   "nbconvert_exporter": "python",
   "pygments_lexer": "ipython2",
   "version": "2.7.6"
  }
 },
 "nbformat": 4,
 "nbformat_minor": 0
}
