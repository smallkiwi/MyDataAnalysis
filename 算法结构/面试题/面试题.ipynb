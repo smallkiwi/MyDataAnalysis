{
 "cells": [
  {
   "cell_type": "markdown",
   "metadata": {},
   "source": [
    "# Python 面试题"
   ]
  },
  {
   "cell_type": "markdown",
   "metadata": {},
   "source": [
    "### 基础部分"
   ]
  },
  {
   "cell_type": "markdown",
   "metadata": {},
   "source": [
    "#### 1. 对数组 `[3, 1, 2, 4, 2, 4, 5, 3, 7]` 进行去重, 写出至少两种方法 (请写出一段Python代码实现删除一个list里面的重复元素)"
   ]
  },
  {
   "cell_type": "code",
   "execution_count": 12,
   "metadata": {},
   "outputs": [
    {
     "name": "stdout",
     "output_type": "stream",
     "text": [
      "[1, 2, 3, 4, 5, 7]\n",
      "[3, 1, 2, 4, 5, 7]\n",
      "[1, 2, 4, 5, 3, 7]\n",
      "[3, 1, 2, 4, 5, 7]\n"
     ]
    }
   ],
   "source": [
    "def unique1(lst):\n",
    "    '''内置方法'''\n",
    "    return list(set(lst))\n",
    "\n",
    "def unique2(lst):\n",
    "    '''思路简单'''\n",
    "    l = []\n",
    "    for i in lst:\n",
    "        if i not in l:\n",
    "            l.append(i)\n",
    "    return l\n",
    "\n",
    "\n",
    "def unique3(lst):\n",
    "    for i in lst[::-1]:\n",
    "        if lst.count(i) > 1:\n",
    "            lst.remove(i)\n",
    "    return lst\n",
    "\n",
    "\n",
    "def unique4(lst):\n",
    "    '''位图去重, 仅限于正整数'''\n",
    "    bmp = 0\n",
    "    l = []\n",
    "    for i in lst:\n",
    "        n = (1 << i)\n",
    "        if bmp & n == 0:\n",
    "            bmp |= n\n",
    "            l.append(i)\n",
    "    return l\n",
    "\n",
    "\n",
    "l = [3, 1, 2, 4, 2, 4, 5, 3, 7]\n",
    "\n",
    "print(unique1(l.copy()))\n",
    "print(unique2(l.copy()))\n",
    "print(unique3(l.copy()))\n",
    "print(unique4(l.copy()))"
   ]
  },
  {
   "cell_type": "markdown",
   "metadata": {},
   "source": [
    "#### 2. 截取字符串 `s = 'abccdefg'` 的 `efg`"
   ]
  },
  {
   "cell_type": "code",
   "execution_count": 2,
   "metadata": {
    "scrolled": true
   },
   "outputs": [
    {
     "name": "stdout",
     "output_type": "stream",
     "text": [
      "abccd\n"
     ]
    }
   ],
   "source": [
    "s = 'abccdefg'\n",
    "s = s.strip('efg')\n",
    "print(s)"
   ]
  },
  {
   "cell_type": "markdown",
   "metadata": {},
   "source": [
    "#### 3. 有一个字符串开头和末尾都有空格,比如 `'    hong zao ke ji    '`, 要求写一个函数把这个字符串的前后空格都去掉"
   ]
  },
  {
   "cell_type": "code",
   "execution_count": 10,
   "metadata": {},
   "outputs": [
    {
     "data": {
      "text/plain": [
       "'hong zao ke ji'"
      ]
     },
     "execution_count": 10,
     "metadata": {},
     "output_type": "execute_result"
    }
   ],
   "source": [
    "def strip(string):\n",
    "    start, end = 0, -1\n",
    "    length = len(string)\n",
    "\n",
    "    for i in range(length):\n",
    "        if string[i] != ' ':\n",
    "            start = i\n",
    "            break\n",
    "\n",
    "    for j in range(-1, -length, -1):\n",
    "        if string[j] != ' ':\n",
    "            end = length + j + 1\n",
    "            break\n",
    "            \n",
    "    return string[start:end]\n",
    "\n",
    "\n",
    "s = '    hong zao ke ji    '\n",
    "strip(s)"
   ]
  },
  {
   "cell_type": "markdown",
   "metadata": {},
   "source": [
    "#### 4. 将字符串: `'k:1|k1:2|k2:3|k3:4 '` ,处理成 python 字典: `{'k':1, 'k1':2, ...}`"
   ]
  },
  {
   "cell_type": "code",
   "execution_count": 22,
   "metadata": {},
   "outputs": [
    {
     "name": "stdout",
     "output_type": "stream",
     "text": [
      "{'k': 1, 'k1': 2, 'k2': 3, 'k3': 4}\n",
      "{'k': 1, 'k1': 2, 'k2': 3, 'k3': 4}\n"
     ]
    }
   ],
   "source": [
    "# 单行\n",
    "s = 'k:1|k1:2|k2:3|k3:4'\n",
    "dd = {k: int(v) for k, v in map(lambda x: x.split(':'), s.split('|'))}\n",
    "print(dd)\n",
    "\n",
    "\n",
    "d = {}\n",
    "items = s.split('|')\n",
    "for x in items:\n",
    "    k, v = x.split(':')\n",
    "    d[k] = int(v)\n",
    "    \n",
    "print(d)"
   ]
  },
  {
   "cell_type": "markdown",
   "metadata": {},
   "source": [
    "#### 5. 有一个list `['This','is','a','Boy','!']`,所有元素都是字符串,对它进行大小写无关的排序"
   ]
  },
  {
   "cell_type": "code",
   "execution_count": 23,
   "metadata": {},
   "outputs": [
    {
     "name": "stdout",
     "output_type": "stream",
     "text": [
      "['!', 'a', 'Boy', 'is', 'This']\n"
     ]
    }
   ],
   "source": [
    "lst = ['This','is','a','Boy','!']\n",
    "lst.sort(key=lambda x: x.lower())\n",
    "print(lst)"
   ]
  },
  {
   "cell_type": "markdown",
   "metadata": {},
   "source": [
    "#### 6. 描述 dict 的 items() 方法与 iteritems() 方法的不同"
   ]
  },
  {
   "cell_type": "markdown",
   "metadata": {},
   "source": [
    "Python 2.x 下 `items()` 返回列表, `iteritems()` 返回一个迭代器\n",
    "\n",
    "Python 3.x 下 `items()` 返回一个迭代器, 无 `iteritems()` 方法"
   ]
  },
  {
   "cell_type": "markdown",
   "metadata": {},
   "source": [
    "#### 7. 简单实现一个 stack 实现 push, pop 方法"
   ]
  },
  {
   "cell_type": "code",
   "execution_count": 24,
   "metadata": {},
   "outputs": [],
   "source": [
    "class Stack(object):\n",
    "    def __init__(self):\n",
    "        self.value = []\n",
    "    \n",
    "    def push(self, v):\n",
    "        self.value.insert(0, v)\n",
    "        \n",
    "    def pop(self):\n",
    "        return self.value.pop(0)"
   ]
  },
  {
   "cell_type": "markdown",
   "metadata": {},
   "source": [
    "#### 8. 字典有哪些常用的内置方法"
   ]
  },
  {
   "cell_type": "markdown",
   "metadata": {},
   "source": [
    "`get(), pop(), update(), clear(), keys(), values(), items(), setdefault()`"
   ]
  },
  {
   "cell_type": "markdown",
   "metadata": {},
   "source": [
    "#### 9. 用装饰器给一个方法增加打印功能 (使用装饰器计算一个函数的运行时间)"
   ]
  },
  {
   "cell_type": "code",
   "execution_count": 7,
   "metadata": {},
   "outputs": [],
   "source": [
    "import time\n",
    "\n",
    "def timer(func):\n",
    "    def wrap(*args, **kwargs):\n",
    "        t = time.time()\n",
    "        res = func(*args, **kwargs)\n",
    "        print(time.time() - t)\n",
    "        return res\n",
    "    return wrap"
   ]
  },
  {
   "cell_type": "markdown",
   "metadata": {},
   "source": [
    "#### 10. Python中pass语句的作用是什么?"
   ]
  },
  {
   "cell_type": "markdown",
   "metadata": {},
   "source": [
    "占位符，不做任何事"
   ]
  },
  {
   "cell_type": "markdown",
   "metadata": {},
   "source": [
    "#### 11. 可变类型和不可变类型有什么区别?"
   ]
  },
  {
   "cell_type": "markdown",
   "metadata": {},
   "source": [
    "不可变类型包括 `int, float, str, bytes, tuple`, 变量本身不可变, 修改这些值时会创建出一个新的对象, 新对象内存地址与原对象不一致\n",
    "\n",
    "可变类型包括 `list, dict, set`, 变量可以添加、删除其中的元素，修改后内存地址不变"
   ]
  },
  {
   "cell_type": "markdown",
   "metadata": {},
   "source": [
    "#### 12. 阅读下面的代码,写出 A0, A1 至 An 的最终值."
   ]
  },
  {
   "cell_type": "code",
   "execution_count": 8,
   "metadata": {},
   "outputs": [],
   "source": [
    "A0 = dict(zip(('a','b','c','d','e'),(1,2,3,4,5)))\n",
    "A1 = range(10)\n",
    "A2 = [i for i in A1 if i in A0]\n",
    "A3 = [A0[s] for s in A0]  # A3 即 A0.values()\n",
    "A4 = [i for i in A1 if i in A3]\n",
    "A5 = {i:i*i for i in A1}\n",
    "A6 = [[i,i*i] for i in A1]"
   ]
  },
  {
   "cell_type": "code",
   "execution_count": 9,
   "metadata": {},
   "outputs": [
    {
     "name": "stdout",
     "output_type": "stream",
     "text": [
      "A0:  {'a': 1, 'b': 2, 'c': 3, 'd': 4, 'e': 5}\n",
      "A1:  range(0, 10)\n",
      "A2:  []\n",
      "A3:  [1, 2, 3, 4, 5]\n",
      "A4:  [1, 2, 3, 4, 5]\n",
      "A5:  {0: 0, 1: 1, 2: 4, 3: 9, 4: 16, 5: 25, 6: 36, 7: 49, 8: 64, 9: 81}\n",
      "A6:  [[0, 0], [1, 1], [2, 4], [3, 9], [4, 16], [5, 25], [6, 36], [7, 49], [8, 64], [9, 81]]\n"
     ]
    }
   ],
   "source": [
    "print('A0: ', A0)\n",
    "print('A1: ', A1)\n",
    "print('A2: ', A2)\n",
    "print('A3: ', A3)\n",
    "print('A4: ', A4)\n",
    "print('A5: ', A5)\n",
    "print('A6: ', A6)"
   ]
  },
  {
   "cell_type": "markdown",
   "metadata": {},
   "source": [
    "#### 13. 有两个文件 A 和 B,  每个文件中逐行存放一个单词，且整体按字母顺序排列，要求把这两个文件中的信息合并(按字母排序), 输出到一个新文件 C 中"
   ]
  },
  {
   "cell_type": "code",
   "execution_count": 10,
   "metadata": {},
   "outputs": [],
   "source": [
    "fa = open('A', 'r')\n",
    "fb = open('B', 'r')\n",
    "fc = open('C', 'w')\n",
    "\n",
    "la = fa.readline()\n",
    "lb = fb.readline()\n",
    "\n",
    "while la and lb:\n",
    "    if la < lb:\n",
    "        fc.write(la)\n",
    "        la = fa.readline()\n",
    "    else:\n",
    "        fc.write(lb)\n",
    "        lb = fb.readline()\n",
    "\n",
    "if la:\n",
    "    for la in fa:\n",
    "        fc.write(la)\n",
    "else:\n",
    "    for lb in fb:\n",
    "        fc.write(lb)\n",
    "\n",
    "fa.close()\n",
    "fb.close()\n",
    "fc.close()"
   ]
  },
  {
   "cell_type": "markdown",
   "metadata": {},
   "source": [
    "#### 14. Python中如何动态获取和设置对象的属性"
   ]
  },
  {
   "cell_type": "code",
   "execution_count": 11,
   "metadata": {},
   "outputs": [
    {
     "data": {
      "text/plain": [
       "123"
      ]
     },
     "execution_count": 11,
     "metadata": {},
     "output_type": "execute_result"
    }
   ],
   "source": [
    "class Object(object):\n",
    "    pass\n",
    "\n",
    "obj = Object()\n",
    "setattr(obj, 'name', 123)   # 动态设置一个 name 属性, 值为 123\n",
    "getattr(obj, 'name', None)  # 获取 name 属性, 取不到时默认返回 None"
   ]
  },
  {
   "cell_type": "markdown",
   "metadata": {},
   "source": [
    "#### 15. Python如何进行内存管理? "
   ]
  },
  {
   "cell_type": "markdown",
   "metadata": {},
   "source": [
    "Python 采用引用计数的方式来管理分配的内存。Python 的每个对象都有一个引用计数，这个引用计数表明了有多少对象在指向它。当这个引用计数为 0 时，释放该对象的内存。为了解决循环引用的问题，Python提供了“标记-清除”法，用于释放循环引用的对象。\n",
    "\n",
    "为了加速Python的执行效率，Python 同时使用了一个内存池机制，用于管理对小块内存的申请和释放。 Python 的垃圾收集并不会把不用的内存返回给操作系统，而是放到了内存池。对于 int, float, list 对象, Python 还提供了独立的私有内存池。"
   ]
  },
  {
   "cell_type": "markdown",
   "metadata": {},
   "source": [
    "#### 16. Python垃圾回收机制,以及在何种情况下会发生内存泄漏"
   ]
  },
  {
   "cell_type": "markdown",
   "metadata": {},
   "source": [
    "1. Python 通过引用计数来确定当前变量是否需要释放。每个对象都有一个计数器，当一个对象的引用计数为0时，就会由 gc 模块来执行内存释放操作。假如这个对象在缓冲区内，那么它地址空间不会被释放，而是等待下一次被使用，而非缓冲区的该释放就释放。\n",
    "\n",
    "    对于普通对象 gc 采取分代回收算法，对象根据存活的时间分为三“代”，所有新建的对象都是0代，当0代对象经过一次自动垃圾回收，没有被释放的对象会被归入1代，同理1代归入2代。\n",
    "\n",
    "    对于因循环引用而无法释放的对象，Python 采用“标记-清除”法。\n",
    "\n",
    "2. Python 下造成内存泄漏的原因大概有这几方面：\n",
    "    - 对象一直被全局变量所引用, 全局变量生命周期长.\n",
    "    - 垃圾回收机被禁用或者设置成debug状态, 垃圾回收的内存不会被释放.\n",
    "    - 循环引用过多, gc 无法及时释放"
   ]
  },
  {
   "cell_type": "markdown",
   "metadata": {},
   "source": [
    "#### 17. 如何用Python删除一个文件?"
   ]
  },
  {
   "cell_type": "code",
   "execution_count": 12,
   "metadata": {
    "scrolled": true
   },
   "outputs": [
    {
     "name": "stdout",
     "output_type": "stream",
     "text": [
      "[Errno 2] No such file or directory: '/path/foo/bar'\n"
     ]
    }
   ],
   "source": [
    "import os\n",
    "\n",
    "try:\n",
    "    os.remove('/path/foo/bar')\n",
    "except FileNotFoundError as e:\n",
    "    print(e)"
   ]
  },
  {
   "cell_type": "markdown",
   "metadata": {},
   "source": [
    "#### 18. (re)search和match的区别?"
   ]
  },
  {
   "cell_type": "markdown",
   "metadata": {},
   "source": [
    "search 会扫描整个字符串寻找要匹配的模式\n",
    "\n",
    "match 会从尝试在字符串的开头应用匹配模式"
   ]
  },
  {
   "cell_type": "markdown",
   "metadata": {},
   "source": [
    "#### 19. 写一个匹配Email地址的正则表达式(手机号等)"
   ]
  },
  {
   "cell_type": "code",
   "execution_count": 13,
   "metadata": {},
   "outputs": [
    {
     "data": {
      "text/plain": [
       "'Abc_deF-1283@93-cx.com.cn'"
      ]
     },
     "execution_count": 13,
     "metadata": {},
     "output_type": "execute_result"
    }
   ],
   "source": [
    "import re\n",
    "\n",
    "p = r'[a-zA-Z0-9_-]+@[a-zA-Z0-9_-]+(\\.[a-zA-Z0-9_-]+)+'\n",
    "text = 'email is Abc_deF-1283@93-cx.com.cn hahah'\n",
    "res = re.search(p, text)\n",
    "res.group()"
   ]
  },
  {
   "cell_type": "markdown",
   "metadata": {},
   "source": [
    "#### 20. global 和 nonlocal 的区别?"
   ]
  },
  {
   "cell_type": "markdown",
   "metadata": {},
   "source": [
    "global 用来声明所使用的变量为全局变量。\n",
    "\n",
    "nonlocal 用来声明变量为外层变量, 如:\n",
    "\n",
    "```python\n",
    "def foo():\n",
    "    a = 123\n",
    "    def bar():\n",
    "        nonlocal a\n",
    "        a += 456\n",
    "        return a\n",
    "    return bar\n",
    "```"
   ]
  },
  {
   "cell_type": "markdown",
   "metadata": {},
   "source": [
    "#### 21. 深拷贝和浅拷贝的区别(如何拷贝一个对象)?"
   ]
  },
  {
   "cell_type": "markdown",
   "metadata": {},
   "source": [
    "浅拷贝只拷贝对象本身, 对象(如 list, dict)中的子元素不会被拷贝，而是依旧引用原对象。深拷贝会将对象即其中的包含的子元素全部拷贝一份。\n",
    "\n",
    "使用\n",
    "```python\n",
    "from copy import copy, deepcopy\n",
    "\n",
    "a = [1, 2, 3]\n",
    "b = copy(a)\n",
    "c = deepcopy(a)\n",
    "```"
   ]
  },
  {
   "cell_type": "markdown",
   "metadata": {},
   "source": [
    "#### 22. 请简述Python中可变对象和不可变对象的本质区别,并举例说明,比如 `a=1, b=2, a is b` 返回值,如果都等于 500 呢?"
   ]
  },
  {
   "cell_type": "markdown",
   "metadata": {},
   "source": [
    "可变对象修改其中元素时，自身内存地址不会变。而不可变对象被修改时，并非自身被修改，而是创建出了一个新的对象，如："
   ]
  },
  {
   "cell_type": "code",
   "execution_count": 14,
   "metadata": {},
   "outputs": [
    {
     "name": "stdout",
     "output_type": "stream",
     "text": [
      "a: 4417672544\n",
      "a: 4417672608\n",
      "b: 4455677168\n",
      "b: 4455505416\n"
     ]
    }
   ],
   "source": [
    "a = 1\n",
    "print('a:', id(a))\n",
    "a += 2\n",
    "print('a:', id(a))\n",
    "\n",
    "b = (1, 2, 3)\n",
    "print('b:', id(b))\n",
    "b += (4, 5)\n",
    "print('b:', id(b))"
   ]
  },
  {
   "cell_type": "code",
   "execution_count": 15,
   "metadata": {},
   "outputs": [
    {
     "name": "stdout",
     "output_type": "stream",
     "text": [
      "False\n",
      "True\n",
      "False\n"
     ]
    }
   ],
   "source": [
    "a = 1\n",
    "b = 2\n",
    "c = 1\n",
    "print(a is b)  # False\n",
    "print(a is c)  # True,  Python 缓存了小整数对象, 范围为 [-5, 256] 的闭区间\n",
    "\n",
    "\n",
    "a = 500\n",
    "b = 500\n",
    "print(a is b)  # False"
   ]
  },
  {
   "cell_type": "markdown",
   "metadata": {},
   "source": [
    "#### 23. with 语句的概念是什么, 支持 with 的对象有哪些特性?"
   ]
  },
  {
   "cell_type": "markdown",
   "metadata": {},
   "source": [
    "with 语句适用于对资源进行访问的场合，确保不管使用过程中是否发生异常都会执行必要的“清理”操作，释放资源，比如文件使用后自动关闭、线程中锁的自动获取和释放等。\n",
    "\n",
    "任何定义了 `__enter__` 和 `__exit__` 方法的对象都支持 with 操作, python 内建对象包括 file, socket, contextmanager 等"
   ]
  },
  {
   "cell_type": "markdown",
   "metadata": {},
   "source": [
    "#### 24. 新式类和旧式类的区别?"
   ]
  },
  {
   "cell_type": "markdown",
   "metadata": {},
   "source": [
    "1. 新式类通过继承 object，获得了很多属性和方法，如 __class__, __getattribute__ 等\n",
    "2. 在多继承中，新式类采用广度优先搜索，而旧式类是采用深度优先搜索。"
   ]
  },
  {
   "cell_type": "markdown",
   "metadata": {},
   "source": [
    "#### 25. 什么是GIL?"
   ]
  },
  {
   "cell_type": "markdown",
   "metadata": {},
   "source": [
    "GIL 即全局解释器锁。主要为了解决线程间数据一致性和状态同步的困难的问题。通过锁的方式限制 Python 解释器同一时刻只有一个线程在执行。"
   ]
  },
  {
   "cell_type": "markdown",
   "metadata": {},
   "source": [
    "#### 26. 循环输出 2017-1-1 到 2017-12-31 的每一天日期, 格式YYYY-MM-DD"
   ]
  },
  {
   "cell_type": "code",
   "execution_count": null,
   "metadata": {},
   "outputs": [],
   "source": [
    "import datetime\n",
    "\n",
    "day = datetime.date(2017, 1, 1)\n",
    "while day.year < 2018:\n",
    "    print(day.strftime('%Y-%m-%d'))\n",
    "    day += datetime.timedelta(1)"
   ]
  },
  {
   "cell_type": "markdown",
   "metadata": {},
   "source": [
    "#### 27. 写一个函数,计算一个给定的日期是该年的第几天"
   ]
  },
  {
   "cell_type": "code",
   "execution_count": 17,
   "metadata": {},
   "outputs": [],
   "source": [
    "import datetime\n",
    "\n",
    "def count_days(year, month, day):\n",
    "    d = datetime.date(year, month, day)\n",
    "    d0 = datetime.date(year, 1, 1)\n",
    "    return (d - d0).days + 1"
   ]
  },
  {
   "cell_type": "markdown",
   "metadata": {},
   "source": [
    "#### 28. 如果当前日期为 `20170130`, 要求写一个函数输出N天后的日期(比如N为2,则输出20170201)"
   ]
  },
  {
   "cell_type": "code",
   "execution_count": 26,
   "metadata": {},
   "outputs": [
    {
     "data": {
      "text/plain": [
       "'20170216'"
      ]
     },
     "execution_count": 26,
     "metadata": {},
     "output_type": "execute_result"
    }
   ],
   "source": [
    "import datetime\n",
    "\n",
    "def after_days(str_date, n):\n",
    "    date = datetime.datetime.strptime(str_date, '%Y%m%d')\n",
    "    other = date + datetime.timedelta(n)\n",
    "    return other.strftime('%Y%m%d')\n",
    "\n",
    "after_days('20170130', 17)"
   ]
  },
  {
   "cell_type": "markdown",
   "metadata": {},
   "source": [
    "#### 29. 写出python的异常处理机制,并打印到日志中.日志级别输出为info"
   ]
  },
  {
   "cell_type": "code",
   "execution_count": 19,
   "metadata": {},
   "outputs": [],
   "source": [
    "import logging\n",
    "\n",
    "log = logging.getLogger()\n",
    "\n",
    "try:\n",
    "    raise ValueError()\n",
    "except ValueError as e:\n",
    "    log.info(e)"
   ]
  },
  {
   "cell_type": "markdown",
   "metadata": {},
   "source": [
    "#### 30. 现有一个test.txt文件,使用python逐行读取其中的数据"
   ]
  },
  {
   "cell_type": "code",
   "execution_count": null,
   "metadata": {},
   "outputs": [],
   "source": [
    "with open('text.txt') as f:\n",
    "    for line in f:\n",
    "        print(f)"
   ]
  },
  {
   "cell_type": "markdown",
   "metadata": {},
   "source": [
    "#### 31. 写一个 python 脚本实现 300 万并发 url 请求"
   ]
  },
  {
   "cell_type": "code",
   "execution_count": null,
   "metadata": {},
   "outputs": [],
   "source": [
    "import urllib\n",
    "import threading\n",
    "\n",
    "urls = {'http://baidu.com': None}\n",
    "\n",
    "def request(url):\n",
    "    resp = urllib.request.urlopen(url)\n",
    "    urls[url] = resp\n",
    "\n",
    "with threading.Semaphore(1000) as sem:\n",
    "    for url in urls:\n",
    "        t = threading.Thread(target=request, args=(url,))\n",
    "        t.start()"
   ]
  },
  {
   "cell_type": "markdown",
   "metadata": {},
   "source": [
    "#### 32. 使用python写一个冒泡排序"
   ]
  },
  {
   "cell_type": "code",
   "execution_count": 21,
   "metadata": {},
   "outputs": [
    {
     "data": {
      "text/plain": [
       "[1, 2, 4, 4, 5, 8]"
      ]
     },
     "execution_count": 21,
     "metadata": {},
     "output_type": "execute_result"
    }
   ],
   "source": [
    "def bubble_sort(lst):\n",
    "    for passnum in range(len(lst) - 1, 0, -1):\n",
    "        for i in range(passnum):\n",
    "            if lst[i] > lst[i + 1]:\n",
    "                temp = lst[i]\n",
    "                lst[i] = lst[i + 1]\n",
    "                lst[i + 1] = temp\n",
    "    return lst\n",
    "\n",
    "\n",
    "bubble_sort([5,2,4,8,4,1])"
   ]
  },
  {
   "cell_type": "markdown",
   "metadata": {},
   "source": [
    "#### 33. 排序算法有哪些?用Python写一种排序算法"
   ]
  },
  {
   "cell_type": "markdown",
   "metadata": {},
   "source": [
    "冒泡排序、堆排序、快速排序、插入排序、归并排序"
   ]
  },
  {
   "cell_type": "code",
   "execution_count": 22,
   "metadata": {},
   "outputs": [
    {
     "data": {
      "text/plain": [
       "[1, 2, 5, 5, 8, 9]"
      ]
     },
     "execution_count": 22,
     "metadata": {},
     "output_type": "execute_result"
    }
   ],
   "source": [
    "def qsort(lst):\n",
    "    if not lst:\n",
    "        return []\n",
    "    else:\n",
    "        pivot = lst[0]\n",
    "        less = [x for x in lst if x < pivot]\n",
    "        more = [x for x in lst[1:] if x >= pivot]\n",
    "        return qsort(less) + [pivot] + qsort(more)\n",
    "\n",
    "qsort([5,2,1,5,8,9])"
   ]
  },
  {
   "cell_type": "markdown",
   "metadata": {},
   "source": [
    "#### 34. __new__和__init__的区别,所有的类都有__new__吗?__init__需要返回值吗? __new__没有正确返回当前类的实例,那么__init__会不会调用?"
   ]
  },
  {
   "cell_type": "markdown",
   "metadata": {},
   "source": [
    "新式类才有 `__new__`\n",
    "\n",
    "`__init__` 无返回值\n",
    "\n",
    "new 不返回实例时, init 不会被调用"
   ]
  },
  {
   "cell_type": "markdown",
   "metadata": {},
   "source": [
    "#### 35. read和readline以及readlines的区别"
   ]
  },
  {
   "cell_type": "markdown",
   "metadata": {},
   "source": [
    "readline 只读取一行, readlines 会读取整个文件的所有行, 并返回一个列表"
   ]
  },
  {
   "cell_type": "markdown",
   "metadata": {},
   "source": [
    "#### 36. Python哪几种方式可以实现单例"
   ]
  },
  {
   "cell_type": "markdown",
   "metadata": {},
   "source": [
    "实现单例的方式有很多种, 如自定义类的 __new__ 函数, 或者通过装饰器等, 模块内的全局变量本身就是一个单例"
   ]
  },
  {
   "cell_type": "markdown",
   "metadata": {},
   "source": [
    "#### 37. Lambda函数默认返回什么?"
   ]
  },
  {
   "cell_type": "markdown",
   "metadata": {},
   "source": [
    "返回表达式的值"
   ]
  },
  {
   "cell_type": "markdown",
   "metadata": {},
   "source": [
    "#### 38. 说说进程,线程和锁的关系"
   ]
  },
  {
   "cell_type": "markdown",
   "metadata": {},
   "source": [
    "进程是由操作系统调度和执行的，每个进程有自己的地址空间。\n",
    "\n",
    "线程运行在进程内，同进程内的多个线程共享进程内的资源，但是每个线程有自己的调用栈。\n",
    "\n",
    "线程现对于进程来说更加轻量级，占用资源更少。\n",
    "\n",
    "多个线程读写共同的资源时，可能会发生资源竞争，引发线程安全问题，此时需要加锁，限制同一时刻仅有一个线程操作资源。"
   ]
  },
  {
   "cell_type": "code",
   "execution_count": null,
   "metadata": {},
   "outputs": [],
   "source": []
  },
  {
   "cell_type": "markdown",
   "metadata": {},
   "source": [
    "### Web 部分"
   ]
  },
  {
   "cell_type": "markdown",
   "metadata": {},
   "source": [
    "#### 1. Nginx 和 uWSGI在项目中分别起什么作用?"
   ]
  },
  {
   "cell_type": "markdown",
   "metadata": {},
   "source": [
    "Nginx 可以起到 HTTPServer、负载均衡和反向代理的作用\n",
    "\n",
    "uWSGI 作用是一个 AppServer, 用来处理 HTTPServer 和 WebApp 之间的通信"
   ]
  },
  {
   "cell_type": "markdown",
   "metadata": {},
   "source": [
    "#### 2. 静态文件具体是怎么配置到Nginx上的"
   ]
  },
  {
   "cell_type": "markdown",
   "metadata": {},
   "source": [
    "在 nginx 配置中添加一个 location，指明静态文件的 URL 前缀和静态文件所在目录即可\n",
    "\n",
    "```\n",
    "location /static/ {\n",
    "    root   /blog5/post/;  # 静态文件路径 (必须要有)\n",
    "    expires 30d;          # 设置缓存过期时间 (可选项)\n",
    "    access_log off;       # 关闭访问日志 (可选项)\n",
    "} \n",
    "```"
   ]
  },
  {
   "cell_type": "markdown",
   "metadata": {},
   "source": [
    "#### 3. 如果一个网站采取Django搭建,如何通过页面实现数据访问,请画图表示"
   ]
  },
  {
   "cell_type": "markdown",
   "metadata": {},
   "source": [
    "orm -> cache -> logic functions -> views functions -> template -> html"
   ]
  },
  {
   "cell_type": "markdown",
   "metadata": {},
   "source": [
    "### Linux 部分"
   ]
  },
  {
   "cell_type": "markdown",
   "metadata": {},
   "source": [
    "#### 1. 请描述下列 Linux 命令的意义"
   ]
  },
  {
   "cell_type": "markdown",
   "metadata": {},
   "source": [
    "```shell\n",
    "# 获取进程名包含 XL 的进程 ID, 并将它们杀掉\n",
    "ps -ef | grep XL | grep -v grep | awk '{print $2}' | xargs kill -9\n",
    "\n",
    "# 通过 nohup 的方式在后台运行 xl.py 文件, 并将日志输出到 out.log\n",
    "nohup python -u xl.py > out.log 2 > & 1 &\n",
    "\n",
    "# 查看主机有多少和 127.78.13.93 的连接\n",
    "netstat -nat | grep '127.78.13.93' | wc -l\n",
    "```"
   ]
  },
  {
   "cell_type": "markdown",
   "metadata": {},
   "source": [
    "### 数据库"
   ]
  },
  {
   "cell_type": "markdown",
   "metadata": {},
   "source": [
    "### 网络协议"
   ]
  },
  {
   "cell_type": "markdown",
   "metadata": {},
   "source": [
    "#### 1. 列举 HTTP 请求 Header 下面常用的属性"
   ]
  },
  {
   "cell_type": "markdown",
   "metadata": {},
   "source": [
    "```\n",
    "Accept          浏览器可接受的内容类型\n",
    "Accept-Charset  浏览器可接受的字符集\n",
    "Accept-Encoding 浏览器可接受的内容编码\n",
    "Accept-Language 浏览器可接受的语言\n",
    "Cache-Control   缓存控制, 为 true 时可以将内容缓存\n",
    "Connection      keep-alive\n",
    "Content-Length  请求体/响应体的长度\n",
    "Content-Type    用于指定响应的HTTP内容类型. 如果未指定 默认为 text/html\n",
    "User-Agent      浏览器标识\n",
    "```"
   ]
  },
  {
   "cell_type": "markdown",
   "metadata": {},
   "source": [
    "#### 2. GET 和 POST 的区别"
   ]
  },
  {
   "cell_type": "markdown",
   "metadata": {},
   "source": [
    "- GET 在浏览器可以回退, 而 POST 则会再次提交请求\n",
    "- GET 的 URL 可以被 Bookmark, 而 POST 不可以.\n",
    "- GET 请求会被浏览器主动缓存, 而 POST 不会, 除非手动设置.\n",
    "- GET 请求参数会被完整保留在浏览器历史记录里, 而 POST 中的参数不会被保留.\n",
    "- GET 请求的数据只能进行 URL 编码, 而 POST 支持多种编码方式.\n",
    "- GET 请求在 URL 中传送的参数是有长度限制的 (URL 的最大长度是 2048 个字符), 而 POST 没有.\n",
    "- 对参数的数据类型, GET 只接受 ASCII 字符, 而 POST 没有限制.\n",
    "- GET 比 POST 更不安全, 因为参数直接暴露在URL上, 所以不能用来传递敏感信息.\n",
    "- GET 参数通过 URL 传递, POST 放在 Request body 中."
   ]
  },
  {
   "cell_type": "markdown",
   "metadata": {},
   "source": [
    "#### 3. 描述一下 cookie 和 session"
   ]
  },
  {
   "cell_type": "markdown",
   "metadata": {},
   "source": [
    "- 异同\n",
    "    1. session 在服务器端, cookie 在浏览器\n",
    "    2. session 默认被存在在服务器的一个文件里（不是内存）\n",
    "    3. session 的运行依赖 session id, 而 session id 是存在 cookie 中的, 如果浏览器禁用了 cookie , 同时 session 也会失效\n",
    "    4. session 可以放在 文件、数据库、或内存中都可以.\n",
    "    5. 用户验证这种场合一般会用 session\n",
    "- 产生过程\n",
    "    1. 客户端请求\n",
    "    2. 服务器产生 session_id, 并传回浏览器\n",
    "    3. 浏览器将 session_id 写入 cookie\n",
    "    4. 后续请求会写入 Header"
   ]
  },
  {
   "cell_type": "markdown",
   "metadata": {},
   "source": [
    "#### 4. 三次握手, 四次挥手, 断开连接为什么多一次?"
   ]
  },
  {
   "cell_type": "markdown",
   "metadata": {},
   "source": [
    "三次握手过程为\n",
    "1. 客户端发送 syn 连接请求\n",
    "2. 服务器返回 ack 应答和一个 syn 请求\n",
    "3. 客户端返回 ack 应答\n",
    "\n",
    "四次挥手过程为\n",
    "1. 客户端发送 FIN 报文, 告诉服务器可以断开(客户端准备就绪)\n",
    "2. 服务器返回 ACK 报文, 告诉客户端 FIN 已收到\n",
    "3. 服务器发送 FIN 报文, 告诉客户端可以断开了(服务器准备就绪)\n",
    "4. 客户端返回 ACK 报文, 告诉服务器 FIN 已收到\n",
    "\n",
    "断开连接时需要四次通信是因为客户端发起断开请求后, 服务器端的数据可能尚未传输完毕, 所以需要等服务器就绪后, 服务器自己发送一个 FIN, 客户端应答后再关闭连接"
   ]
  },
  {
   "cell_type": "markdown",
   "metadata": {},
   "source": [
    "### 编程部分"
   ]
  },
  {
   "cell_type": "markdown",
   "metadata": {},
   "source": [
    "#### 1. 平衡点问题:\n",
    "假如一个数组中的元素,其前面的部分等于后面的部分,那么这个点的位序就是平衡点\n",
    "比如一个列表numbers = [1,3,5,7,8,25,4,20],25前面的总和为24,25后面的总和也是24,那么25这个点就是平衡点\n",
    "要求编写程序,寻找并返回任意一个列表的平衡点"
   ]
  },
  {
   "cell_type": "markdown",
   "metadata": {},
   "source": [
    "#### 2. 一只青蛙一次可以跳上1级台阶,也可以跳上2级.求该青蛙跳上一个n级的台阶总共有多少种跳法"
   ]
  },
  {
   "cell_type": "markdown",
   "metadata": {},
   "source": [
    "#### 3. 如何实现一个普通数结构的层次遍历(从上往下,从左往右)"
   ]
  },
  {
   "cell_type": "markdown",
   "metadata": {},
   "source": [
    "#### 4. 使用二分法查找实现binarySearch(range[1,l],t)"
   ]
  },
  {
   "cell_type": "markdown",
   "metadata": {},
   "source": [
    "#### 5. 请书写一个函数,用于替换某个字符串的一个或某几个字符串.\n",
    "    函数原型strreplace(str, oldString, newString)\n",
    "    例如:\n",
    "\n",
    "    >>pstr = 'Hello World!';\n",
    "    >>afterReplaceStr = strreplace(pstr,'World','Tom');\n",
    "    那么afterReplaceStr的值为'Hello Tom!'"
   ]
  },
  {
   "cell_type": "markdown",
   "metadata": {},
   "source": [
    "#### 6. 一个二进制数K用稀疏数组表示为A,长度为N\n",
    "写一个函数\n",
    "def solution(A):\n",
    "返回K乘以3之后的数组A`的长度\n",
    "例如:指定N=3\n",
    "A=[1,4,5]\n",
    "那么K=二进制(110010) = 十进制(50),那么乘以3之后为十进制150,二进制为10010110,\n",
    "A`= [1,2,4,7]\n",
    "那么A`长度为4`\n",
    "要求:复杂度越小越好"
   ]
  },
  {
   "cell_type": "code",
   "execution_count": null,
   "metadata": {},
   "outputs": [],
   "source": []
  }
 ],
 "metadata": {
  "kernelspec": {
   "display_name": "Python 3",
   "language": "python",
   "name": "python3"
  },
  "language_info": {
   "codemirror_mode": {
    "name": "ipython",
    "version": 3
   },
   "file_extension": ".py",
   "mimetype": "text/x-python",
   "name": "python",
   "nbconvert_exporter": "python",
   "pygments_lexer": "ipython3",
   "version": "3.6.0"
  }
 },
 "nbformat": 4,
 "nbformat_minor": 2
}
